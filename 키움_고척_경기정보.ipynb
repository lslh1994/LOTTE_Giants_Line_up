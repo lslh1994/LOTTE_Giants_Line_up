{
 "cells": [
  {
   "cell_type": "code",
   "execution_count": null,
   "metadata": {},
   "outputs": [],
   "source": [
    "from bs4 import BeautifulSoup\n",
    "import urllib.request as req\n",
    "import pandas as pd\n",
    "\n",
    "from selenium import webdriver\n",
    "from selenium.webdriver.chrome.service import Service\n",
    "from webdriver_manager.chrome import ChromeDriverManager\n",
    "from selenium.webdriver.common.by import By\n",
    "\n",
    "import time"
   ]
  },
  {
   "cell_type": "code",
   "execution_count": null,
   "metadata": {},
   "outputs": [],
   "source": [
    "# Chrome Brower와 Crome Driver Version 확인하기\n",
    "chrome_options = webdriver.ChromeOptions()\n",
    "driver = webdriver.Chrome(service=Service(ChromeDriverManager().install()), options=chrome_options)\n",
    "driver.get('https://www.koreabaseball.com/Record/Crowd/GraphDaily.aspx')"
   ]
  },
  {
   "cell_type": "code",
   "execution_count": null,
   "metadata": {},
   "outputs": [],
   "source": [
    "cloumnName, datetime, date, home ,away, stage, crowd = [], [], [], [], [], [], []"
   ]
  },
  {
   "cell_type": "code",
   "execution_count": null,
   "metadata": {},
   "outputs": [],
   "source": [
    "# 자치구명 정보 가져오기\n",
    "year_combobox = driver.find_element(By.XPATH, '//*[@id=\"cphContents_cphContents_cphContents_ddlSeason\"]')\n",
    "year_list = year_combobox.find_elements(By.TAG_NAME, 'option')\n",
    "year_list\n",
    "years = [option.get_attribute('value') for option in year_list][1:]\n",
    "years"
   ]
  },
  {
   "cell_type": "code",
   "execution_count": null,
   "metadata": {},
   "outputs": [],
   "source": [
    "gu_list_raw = driver.find_element(By.XPATH, '//*[@id=\"cphContents_cphContents_cphContents_udpRecord\"]/table/thead')\n",
    "gu_list_raw\n",
    "gu_list = gu_list_raw.find_elements(By.TAG_NAME, 'tr')\n",
    "gu_list\n",
    "for row in gu_list:\n",
    "    for detail in row.find_elements(By.TAG_NAME, 'th'):\n",
    "        cloumnName.append(detail.text)"
   ]
  },
  {
   "cell_type": "code",
   "execution_count": null,
   "metadata": {},
   "outputs": [],
   "source": [
    "def test():\n",
    "    # 자치구명 정보 가져오기\n",
    "    gu_list_raw = driver.find_element(By.XPATH, '//*[@id=\"cphContents_cphContents_cphContents_udpRecord\"]/table/tbody')\n",
    "    gu_list_raw\n",
    "    gu_list = gu_list_raw.find_elements(By.TAG_NAME, 'tr')\n",
    "    gu_list\n",
    "    for row in gu_list:\n",
    "        # for detail in row.find_elements(By.TAG_NAME, 'td'):\n",
    "        #     print(detail.text)\n",
    "        print(row.text.split())\n",
    "        datetime.append(row.text.split()[0])\n",
    "        date.append(row.text.split()[1])\n",
    "        home.append(row.text.split()[2])\n",
    "        away.append(row.text.split()[3])\n",
    "        stage.append(row.text.split()[4])\n",
    "        crowd.append(row.text.split()[5])"
   ]
  },
  {
   "cell_type": "code",
   "execution_count": null,
   "metadata": {},
   "outputs": [],
   "source": [
    "# 조회버튼 click\n",
    "for year in years:\n",
    "    # print(int(year)-2020)\n",
    "    #년도\n",
    "    xpath = f'//*[@id=\"cphContents_cphContents_cphContents_ddlSeason\"]/option[{int(year)-2020}]'\n",
    "    element_sel_gu = driver.find_element(By.XPATH, xpath).click()\n",
    "    # 소속구단\n",
    "    xpath = '//*[@id=\"cphContents_cphContents_cphContents_ddlTeam\"]/option[11]'\n",
    "    element_sel_gu = driver.find_element(By.XPATH, xpath).click()\n",
    "    # 홈 경기\n",
    "    xpath = '//*[@id=\"cphContents_cphContents_cphContents_ddlHomeAway\"]/option[2]'\n",
    "    element_sel_gu = driver.find_element(By.XPATH, xpath).click()\n",
    "    # 클릭\n",
    "    xpath = '//*[@id=\"cphContents_cphContents_cphContents_btnSearch\"]'\n",
    "    element_sel_gu = driver.find_element(By.XPATH, xpath).click()\n",
    "\n",
    "    time.sleep(1)\n",
    "    test()\n",
    "    "
   ]
  },
  {
   "cell_type": "code",
   "execution_count": null,
   "metadata": {},
   "outputs": [],
   "source": [
    "df = pd.DataFrame(\n",
    "    {\n",
    "        '날짜' : datetime,\n",
    "        '요일' : date,\n",
    "        '홈팀' : home,\n",
    "        '원정팀' : away,\n",
    "        '장소' : stage,\n",
    "        '관중 수' : crowd\n",
    "    },\n",
    ")\n",
    "df"
   ]
  },
  {
   "cell_type": "code",
   "execution_count": null,
   "metadata": {},
   "outputs": [],
   "source": [
    "def str_to_int(value):\n",
    "    return int(value.replace(',', ''))"
   ]
  },
  {
   "cell_type": "code",
   "execution_count": null,
   "metadata": {},
   "outputs": [],
   "source": [
    "df['관중 수'] = df['관중 수'].apply(str_to_int)\n",
    "df['날짜'] = pd.to_datetime(df['날짜'])"
   ]
  },
  {
   "cell_type": "code",
   "execution_count": null,
   "metadata": {},
   "outputs": [],
   "source": [
    "df"
   ]
  },
  {
   "cell_type": "code",
   "execution_count": null,
   "metadata": {},
   "outputs": [],
   "source": [
    "df.to_csv('test.csv', index=False)"
   ]
  },
  {
   "cell_type": "code",
   "execution_count": null,
   "metadata": {},
   "outputs": [],
   "source": []
  }
 ],
 "metadata": {
  "kernelspec": {
   "display_name": "base",
   "language": "python",
   "name": "python3"
  },
  "language_info": {
   "codemirror_mode": {
    "name": "ipython",
    "version": 3
   },
   "file_extension": ".py",
   "mimetype": "text/x-python",
   "name": "python",
   "nbconvert_exporter": "python",
   "pygments_lexer": "ipython3",
   "version": "3.11.7"
  }
 },
 "nbformat": 4,
 "nbformat_minor": 2
}
